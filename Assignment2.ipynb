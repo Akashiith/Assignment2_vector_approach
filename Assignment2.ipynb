{
  "nbformat": 4,
  "nbformat_minor": 0,
  "metadata": {
    "colab": {
      "name": "Assignment2.ipynb",
      "provenance": [],
      "collapsed_sections": [],
      "authorship_tag": "ABX9TyP18RUusvWilJIHCXUq6oOz",
      "include_colab_link": true
    },
    "kernelspec": {
      "name": "python3",
      "display_name": "Python 3"
    },
    "language_info": {
      "name": "python"
    }
  },
  "cells": [
    {
      "cell_type": "markdown",
      "metadata": {
        "id": "view-in-github",
        "colab_type": "text"
      },
      "source": [
        "<a href=\"https://colab.research.google.com/github/Akashiith/Assignment2_vector_approach/blob/main/Assignment2.ipynb\" target=\"_parent\"><img src=\"https://colab.research.google.com/assets/colab-badge.svg\" alt=\"Open In Colab\"/></a>"
      ]
    },
    {
      "cell_type": "code",
      "metadata": {
        "colab": {
          "base_uri": "https://localhost:8080/",
          "height": 281
        },
        "id": "6SNBa7cBiDXb",
        "outputId": "09849bd2-7ef6-43d9-d152-01c01da77072"
      },
      "source": [
        "import matplotlib.pyplot as plt\n",
        "\n",
        "# AB\n",
        "x1 = [2.3,4.1]\n",
        "y1 = [-0.45,-0.15]\n",
        "# plotting  \n",
        "plt.plot(x1, y1,color='blue', label = 'AB',linewidth=2)\n",
        "# BC\n",
        "x2 = [4.1,4.7]\n",
        "y2 = [-0.15,-1.05]\n",
        "# plotting  \n",
        "plt.plot(x2, y2,color='red',label = 'BC' ,linewidth=2)\n",
        "# CD\n",
        "x3 = [4.7,2.9]\n",
        "y3 = [-1.05,-1.35]\n",
        "# plotting  \n",
        "plt.plot(x3, y3,color='blue',label = 'CD', linewidth=2)\n",
        "# AD\n",
        "x4 = [2.3,2.9]\n",
        "y4 = [-0.45,-1.35]\n",
        "# plotting \n",
        "plt.plot(x4, y4,color='red',label = 'AD', linewidth=2)\n",
        "\n",
        "# AC\n",
        "x5 = [2.3,4.7]\n",
        "y5 = [-0.45,-1.05]\n",
        "# plotting  \n",
        "plt.plot(x5, y5,color='green',label = 'AC', linewidth=2)\n",
        "# BD\n",
        "x6 = [4.1,2.9]\n",
        "y6 = [-0.15,-1.35]\n",
        "# plotting \n",
        "plt.plot(x6, y6,color='green',label = 'BD', linewidth=2)\n",
        "\n",
        "plt.legend()\n",
        "plt.annotate(\"A\", (2.3,-0.45))\n",
        "plt.annotate(\"B\", (4.1,-0.15))\n",
        "plt.annotate(\"C\", (4.7,-1.05))\n",
        "plt.annotate(\"D\", (2.9,-1.35))\n",
        "\n",
        "\n",
        "plt.ylabel('$y-axis$')\n",
        "plt.xlabel('$x-axis$')\n",
        "plt.grid() \n",
        "plt.axis('equal')\n",
        "plt.savefig('parallelogram.png', dpi = 200)\n",
        "\n",
        "plt.show()"
      ],
      "execution_count": 1,
      "outputs": [
        {
          "output_type": "display_data",
          "data": {
            "image/png": "[encoded data removed]",
            "text/plain": [
              "<Figure size 432x288 with 1 Axes>"
            ]
          },
          "metadata": {
            "needs_background": "light"
          }
        }
      ]
    }
  ]
}